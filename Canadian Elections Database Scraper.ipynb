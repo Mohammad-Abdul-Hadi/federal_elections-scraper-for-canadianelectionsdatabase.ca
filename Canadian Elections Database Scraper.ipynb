{
 "cells": [
  {
   "cell_type": "code",
   "execution_count": null,
   "metadata": {},
   "outputs": [],
   "source": [
    "from urllib.request import urlopen as uReq\n",
    "from bs4 import BeautifulSoup as soup\n",
    "import csv"
   ]
  },
  {
   "cell_type": "markdown",
   "metadata": {},
   "source": [
    "# First Phase of Scraping"
   ]
  },
  {
   "cell_type": "code",
   "execution_count": null,
   "metadata": {},
   "outputs": [],
   "source": [
    "my_url = 'http://canadianelectionsdatabase.ca/PHASE5/?p=0&type=election&sort=federal'\n",
    "my_url"
   ]
  },
  {
   "cell_type": "markdown",
   "metadata": {},
   "source": [
    "### Opening up the connection, Grabbing the page"
   ]
  },
  {
   "cell_type": "code",
   "execution_count": null,
   "metadata": {},
   "outputs": [],
   "source": [
    "uClient = uReq(my_url)\n",
    "page_html = uClient.read()\n",
    "uClient.close()"
   ]
  },
  {
   "cell_type": "markdown",
   "metadata": {},
   "source": [
    "### Parse the HTML page"
   ]
  },
  {
   "cell_type": "code",
   "execution_count": null,
   "metadata": {},
   "outputs": [],
   "source": [
    "page_soup = soup(page_html, \"html.parser\")"
   ]
  },
  {
   "cell_type": "markdown",
   "metadata": {},
   "source": [
    "### Grab each Link"
   ]
  },
  {
   "cell_type": "code",
   "execution_count": null,
   "metadata": {},
   "outputs": [],
   "source": [
    "containers = page_soup.findAll(\"div\",{\"class\":\"sorted sorted_election\"})\n",
    "# len(containers)\n",
    "# containers[0].a['href']\n",
    "# containers[0].a.text\n",
    "containers"
   ]
  },
  {
   "cell_type": "code",
   "execution_count": null,
   "metadata": {},
   "outputs": [],
   "source": [
    "RowList = []\n",
    "# RowList.append([page_soup.h1.text, ''])\n",
    "RowList.append(['Election Dates', 'Links'])\n",
    "# RowList\n",
    "\n",
    "tempList = [0]\n",
    "\n",
    "for container in containers:\n",
    "    # print(container)\n",
    "    tempList[0] = [container.a.text, \"http://canadianelectionsdatabase.ca/PHASE5/\"+container.a['href']]\n",
    "    # print(tempList[0])\n",
    "    RowList.append(tempList[0])\n",
    "\n",
    "# RowList"
   ]
  },
  {
   "cell_type": "code",
   "execution_count": null,
   "metadata": {},
   "outputs": [],
   "source": [
    "with open('Data 501 outputs/Sayers.csv', 'w', newline='') as csvFile:\n",
    "    writer = csv.writer(csvFile)\n",
    "    writer.writerows(RowList)\n",
    "csvFile.close()"
   ]
  },
  {
   "cell_type": "markdown",
   "metadata": {},
   "source": [
    "# Second Phase of Scraping"
   ]
  },
  {
   "cell_type": "code",
   "execution_count": null,
   "metadata": {},
   "outputs": [],
   "source": [
    "for i in range(1, len(RowList)):\n",
    "    my_url = RowList[i][1]\n",
    "    # my_url\n",
    "\n",
    "    uClient = uReq(my_url)\n",
    "    page_html = uClient.read()\n",
    "    uClient.close()\n",
    "\n",
    "    page_soup = soup(page_html, \"html.parser\")\n",
    "\n",
    "    containers = page_soup.findAll(\"table\", {\"class\":\"grid\"})\n",
    "\n",
    "    container = containers[1].tbody.findAll('tr')\n",
    "\n",
    "    csv_row = []\n",
    "    csv_row.append([\"Party\",\"Candidates\",\"Seats Won\",\"% of Seats Won\",\"% os Vote\"])\n",
    "    temp = []\n",
    "    for item_tr in container:\n",
    "        item_td = item_tr.findAll('td')\n",
    "        for item in item_td:\n",
    "            temp.append(item.text)\n",
    "        csv_row.append(temp)\n",
    "        temp = []\n",
    "\n",
    "    # csv_row\n",
    "\n",
    "    fileNameStr = \"Data 501 outputs/\"+RowList[i][0]+\".csv\"\n",
    "    with open(fileNameStr, 'w', newline='') as csvFile:\n",
    "        writer = csv.writer(csvFile)\n",
    "        writer.writerows(csv_row)\n",
    "    csvFile.close()"
   ]
  }
 ],
 "metadata": {
  "kernelspec": {
   "display_name": "Python 3",
   "language": "python",
   "name": "python3"
  },
  "language_info": {
   "codemirror_mode": {
    "name": "ipython",
    "version": 3
   },
   "file_extension": ".py",
   "mimetype": "text/x-python",
   "name": "python",
   "nbconvert_exporter": "python",
   "pygments_lexer": "ipython3",
   "version": "3.7.3"
  }
 },
 "nbformat": 4,
 "nbformat_minor": 2
}
