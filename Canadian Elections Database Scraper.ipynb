{
 "cells": [
  {
   "cell_type": "code",
   "execution_count": 1,
   "metadata": {},
   "outputs": [],
   "source": [
    "from urllib.request import urlopen as uReq\n",
    "from bs4 import BeautifulSoup as soup\n",
    "import csv"
   ]
  },
  {
   "cell_type": "markdown",
   "metadata": {},
   "source": [
    "# First Phase of Scraping"
   ]
  },
  {
   "cell_type": "code",
   "execution_count": 10,
   "metadata": {},
   "outputs": [
    {
     "data": {
      "text/plain": [
       "'http://canadianelectionsdatabase.ca/PHASE5/?p=0&type=election&sort=federal'"
      ]
     },
     "execution_count": 10,
     "metadata": {},
     "output_type": "execute_result"
    }
   ],
   "source": [
    "my_url = 'http://canadianelectionsdatabase.ca/PHASE5/?p=0&type=election&sort=federal'\n",
    "my_url"
   ]
  },
  {
   "cell_type": "markdown",
   "metadata": {},
   "source": [
    "### Opening up the connection, Grabbing the page"
   ]
  },
  {
   "cell_type": "code",
   "execution_count": 11,
   "metadata": {},
   "outputs": [],
   "source": [
    "uClient = uReq(my_url)\n",
    "page_html = uClient.read()\n",
    "uClient.close()"
   ]
  },
  {
   "cell_type": "markdown",
   "metadata": {},
   "source": [
    "### Parse the HTML page"
   ]
  },
  {
   "cell_type": "code",
   "execution_count": 12,
   "metadata": {},
   "outputs": [],
   "source": [
    "page_soup = soup(page_html, \"html.parser\")"
   ]
  },
  {
   "cell_type": "markdown",
   "metadata": {},
   "source": [
    "### Grab each Link"
   ]
  },
  {
   "cell_type": "code",
   "execution_count": 13,
   "metadata": {},
   "outputs": [
    {
     "data": {
      "text/plain": [
       "[<div class=\"sorted sorted_election\"><a href=\"?p=0&amp;type=election&amp;ID=776\">CAN (Oct 2015)</a></div>,\n",
       " <div class=\"sorted sorted_election\"><a href=\"?p=0&amp;type=election&amp;ID=617\">CAN (May 2011)</a></div>,\n",
       " <div class=\"sorted sorted_election\"><a href=\"?p=0&amp;type=election&amp;ID=279\">CAN (Oct 2008)</a></div>,\n",
       " <div class=\"sorted sorted_election\"><a href=\"?p=0&amp;type=election&amp;ID=615\">CAN (Jan 2006)</a></div>,\n",
       " <div class=\"sorted sorted_election\"><a href=\"?p=0&amp;type=election&amp;ID=614\">CAN (Jun 2004)</a></div>,\n",
       " <div class=\"sorted sorted_election\"><a href=\"?p=0&amp;type=election&amp;ID=613\">CAN (Nov 2000)</a></div>,\n",
       " <div class=\"sorted sorted_election\"><a href=\"?p=0&amp;type=election&amp;ID=612\">CAN (Jun 1997)</a></div>,\n",
       " <div class=\"sorted sorted_election\"><a href=\"?p=0&amp;type=election&amp;ID=611\">CAN (Oct 1993)</a></div>,\n",
       " <div class=\"sorted sorted_election\"><a href=\"?p=0&amp;type=election&amp;ID=610\">CAN (Nov 1988)</a></div>,\n",
       " <div class=\"sorted sorted_election\"><a href=\"?p=0&amp;type=election&amp;ID=609\">CAN (Sep 1984)</a></div>,\n",
       " <div class=\"sorted sorted_election\"><a href=\"?p=0&amp;type=election&amp;ID=608\">CAN (Feb 1980)</a></div>,\n",
       " <div class=\"sorted sorted_election\"><a href=\"?p=0&amp;type=election&amp;ID=607\">CAN (May 1979)</a></div>,\n",
       " <div class=\"sorted sorted_election\"><a href=\"?p=0&amp;type=election&amp;ID=606\">CAN (Jul 1974)</a></div>,\n",
       " <div class=\"sorted sorted_election\"><a href=\"?p=0&amp;type=election&amp;ID=605\">CAN (Oct 1972)</a></div>,\n",
       " <div class=\"sorted sorted_election\"><a href=\"?p=0&amp;type=election&amp;ID=584\">CAN (Jun 1968)</a></div>,\n",
       " <div class=\"sorted sorted_election\"><a href=\"?p=0&amp;type=election&amp;ID=583\">CAN (Nov 1965)</a></div>,\n",
       " <div class=\"sorted sorted_election\"><a href=\"?p=0&amp;type=election&amp;ID=529\">CAN (Apr 1963)</a></div>,\n",
       " <div class=\"sorted sorted_election\"><a href=\"?p=0&amp;type=election&amp;ID=521\">CAN (Jun 1962)</a></div>,\n",
       " <div class=\"sorted sorted_election\"><a href=\"?p=0&amp;type=election&amp;ID=447\">CAN (Mar 1958)</a></div>,\n",
       " <div class=\"sorted sorted_election\"><a href=\"?p=0&amp;type=election&amp;ID=413\">CAN (Jun 1957)</a></div>,\n",
       " <div class=\"sorted sorted_election\"><a href=\"?p=0&amp;type=election&amp;ID=330\">CAN (Aug 1953)</a></div>,\n",
       " <div class=\"sorted sorted_election\"><a href=\"?p=0&amp;type=election&amp;ID=309\">CAN (Jun 1949)</a></div>,\n",
       " <div class=\"sorted sorted_election\"><a href=\"?p=0&amp;type=election&amp;ID=307\">CAN (Jun 1945)</a></div>,\n",
       " <div class=\"sorted sorted_election\"><a href=\"?p=0&amp;type=election&amp;ID=306\">CAN (Mar 1940)</a></div>,\n",
       " <div class=\"sorted sorted_election\"><a href=\"?p=0&amp;type=election&amp;ID=305\">CAN (Oct 1935)</a></div>,\n",
       " <div class=\"sorted sorted_election\"><a href=\"?p=0&amp;type=election&amp;ID=304\">CAN (Jul 1930)</a></div>,\n",
       " <div class=\"sorted sorted_election\"><a href=\"?p=0&amp;type=election&amp;ID=303\">CAN (Sep 1926)</a></div>,\n",
       " <div class=\"sorted sorted_election\"><a href=\"?p=0&amp;type=election&amp;ID=302\">CAN (Oct 1925)</a></div>,\n",
       " <div class=\"sorted sorted_election\"><a href=\"?p=0&amp;type=election&amp;ID=300\">CAN (Dec 1921)</a></div>,\n",
       " <div class=\"sorted sorted_election\"><a href=\"?p=0&amp;type=election&amp;ID=299\">CAN (Dec 1917)</a></div>,\n",
       " <div class=\"sorted sorted_election\"><a href=\"?p=0&amp;type=election&amp;ID=298\">CAN (Sep 1911)</a></div>,\n",
       " <div class=\"sorted sorted_election\"><a href=\"?p=0&amp;type=election&amp;ID=297\">CAN (Oct 1908)</a></div>,\n",
       " <div class=\"sorted sorted_election\"><a href=\"?p=0&amp;type=election&amp;ID=296\">CAN (Nov 1904)</a></div>,\n",
       " <div class=\"sorted sorted_election\"><a href=\"?p=0&amp;type=election&amp;ID=295\">CAN (Nov 1900)</a></div>,\n",
       " <div class=\"sorted sorted_election\"><a href=\"?p=0&amp;type=election&amp;ID=294\">CAN (Jun 1896)</a></div>,\n",
       " <div class=\"sorted sorted_election\"><a href=\"?p=0&amp;type=election&amp;ID=293\">CAN (Mar 1891)</a></div>,\n",
       " <div class=\"sorted sorted_election\"><a href=\"?p=0&amp;type=election&amp;ID=292\">CAN (Feb 1887)</a></div>,\n",
       " <div class=\"sorted sorted_election\"><a href=\"?p=0&amp;type=election&amp;ID=291\">CAN (Jun 1882)</a></div>,\n",
       " <div class=\"sorted sorted_election\"><a href=\"?p=0&amp;type=election&amp;ID=290\">CAN (Sep 1878)</a></div>,\n",
       " <div class=\"sorted sorted_election\"><a href=\"?p=0&amp;type=election&amp;ID=289\">CAN (Jan 1874)</a></div>,\n",
       " <div class=\"sorted sorted_election\"><a href=\"?p=0&amp;type=election&amp;ID=288\">CAN (Jul 1872)</a></div>,\n",
       " <div class=\"sorted sorted_election\"><a href=\"?p=0&amp;type=election&amp;ID=286\">CAN (Aug 1867)</a></div>]"
      ]
     },
     "execution_count": 13,
     "metadata": {},
     "output_type": "execute_result"
    }
   ],
   "source": [
    "containers = page_soup.findAll(\"div\",{\"class\":\"sorted sorted_election\"})\n",
    "# len(containers)\n",
    "# containers[0].a['href']\n",
    "# containers[0].a.text\n",
    "containers"
   ]
  },
  {
   "cell_type": "code",
   "execution_count": 15,
   "metadata": {},
   "outputs": [
    {
     "data": {
      "text/plain": [
       "[['Election Dates', 'Links'],\n",
       " ['CAN (Oct 2015)',\n",
       "  'http://canadianelectionsdatabase.ca/PHASE5/?p=0&type=election&ID=776'],\n",
       " ['CAN (May 2011)',\n",
       "  'http://canadianelectionsdatabase.ca/PHASE5/?p=0&type=election&ID=617'],\n",
       " ['CAN (Oct 2008)',\n",
       "  'http://canadianelectionsdatabase.ca/PHASE5/?p=0&type=election&ID=279'],\n",
       " ['CAN (Jan 2006)',\n",
       "  'http://canadianelectionsdatabase.ca/PHASE5/?p=0&type=election&ID=615'],\n",
       " ['CAN (Jun 2004)',\n",
       "  'http://canadianelectionsdatabase.ca/PHASE5/?p=0&type=election&ID=614'],\n",
       " ['CAN (Nov 2000)',\n",
       "  'http://canadianelectionsdatabase.ca/PHASE5/?p=0&type=election&ID=613'],\n",
       " ['CAN (Jun 1997)',\n",
       "  'http://canadianelectionsdatabase.ca/PHASE5/?p=0&type=election&ID=612'],\n",
       " ['CAN (Oct 1993)',\n",
       "  'http://canadianelectionsdatabase.ca/PHASE5/?p=0&type=election&ID=611'],\n",
       " ['CAN (Nov 1988)',\n",
       "  'http://canadianelectionsdatabase.ca/PHASE5/?p=0&type=election&ID=610'],\n",
       " ['CAN (Sep 1984)',\n",
       "  'http://canadianelectionsdatabase.ca/PHASE5/?p=0&type=election&ID=609'],\n",
       " ['CAN (Feb 1980)',\n",
       "  'http://canadianelectionsdatabase.ca/PHASE5/?p=0&type=election&ID=608'],\n",
       " ['CAN (May 1979)',\n",
       "  'http://canadianelectionsdatabase.ca/PHASE5/?p=0&type=election&ID=607'],\n",
       " ['CAN (Jul 1974)',\n",
       "  'http://canadianelectionsdatabase.ca/PHASE5/?p=0&type=election&ID=606'],\n",
       " ['CAN (Oct 1972)',\n",
       "  'http://canadianelectionsdatabase.ca/PHASE5/?p=0&type=election&ID=605'],\n",
       " ['CAN (Jun 1968)',\n",
       "  'http://canadianelectionsdatabase.ca/PHASE5/?p=0&type=election&ID=584'],\n",
       " ['CAN (Nov 1965)',\n",
       "  'http://canadianelectionsdatabase.ca/PHASE5/?p=0&type=election&ID=583'],\n",
       " ['CAN (Apr 1963)',\n",
       "  'http://canadianelectionsdatabase.ca/PHASE5/?p=0&type=election&ID=529'],\n",
       " ['CAN (Jun 1962)',\n",
       "  'http://canadianelectionsdatabase.ca/PHASE5/?p=0&type=election&ID=521'],\n",
       " ['CAN (Mar 1958)',\n",
       "  'http://canadianelectionsdatabase.ca/PHASE5/?p=0&type=election&ID=447'],\n",
       " ['CAN (Jun 1957)',\n",
       "  'http://canadianelectionsdatabase.ca/PHASE5/?p=0&type=election&ID=413'],\n",
       " ['CAN (Aug 1953)',\n",
       "  'http://canadianelectionsdatabase.ca/PHASE5/?p=0&type=election&ID=330'],\n",
       " ['CAN (Jun 1949)',\n",
       "  'http://canadianelectionsdatabase.ca/PHASE5/?p=0&type=election&ID=309'],\n",
       " ['CAN (Jun 1945)',\n",
       "  'http://canadianelectionsdatabase.ca/PHASE5/?p=0&type=election&ID=307'],\n",
       " ['CAN (Mar 1940)',\n",
       "  'http://canadianelectionsdatabase.ca/PHASE5/?p=0&type=election&ID=306'],\n",
       " ['CAN (Oct 1935)',\n",
       "  'http://canadianelectionsdatabase.ca/PHASE5/?p=0&type=election&ID=305'],\n",
       " ['CAN (Jul 1930)',\n",
       "  'http://canadianelectionsdatabase.ca/PHASE5/?p=0&type=election&ID=304'],\n",
       " ['CAN (Sep 1926)',\n",
       "  'http://canadianelectionsdatabase.ca/PHASE5/?p=0&type=election&ID=303'],\n",
       " ['CAN (Oct 1925)',\n",
       "  'http://canadianelectionsdatabase.ca/PHASE5/?p=0&type=election&ID=302'],\n",
       " ['CAN (Dec 1921)',\n",
       "  'http://canadianelectionsdatabase.ca/PHASE5/?p=0&type=election&ID=300'],\n",
       " ['CAN (Dec 1917)',\n",
       "  'http://canadianelectionsdatabase.ca/PHASE5/?p=0&type=election&ID=299'],\n",
       " ['CAN (Sep 1911)',\n",
       "  'http://canadianelectionsdatabase.ca/PHASE5/?p=0&type=election&ID=298'],\n",
       " ['CAN (Oct 1908)',\n",
       "  'http://canadianelectionsdatabase.ca/PHASE5/?p=0&type=election&ID=297'],\n",
       " ['CAN (Nov 1904)',\n",
       "  'http://canadianelectionsdatabase.ca/PHASE5/?p=0&type=election&ID=296'],\n",
       " ['CAN (Nov 1900)',\n",
       "  'http://canadianelectionsdatabase.ca/PHASE5/?p=0&type=election&ID=295'],\n",
       " ['CAN (Jun 1896)',\n",
       "  'http://canadianelectionsdatabase.ca/PHASE5/?p=0&type=election&ID=294'],\n",
       " ['CAN (Mar 1891)',\n",
       "  'http://canadianelectionsdatabase.ca/PHASE5/?p=0&type=election&ID=293'],\n",
       " ['CAN (Feb 1887)',\n",
       "  'http://canadianelectionsdatabase.ca/PHASE5/?p=0&type=election&ID=292'],\n",
       " ['CAN (Jun 1882)',\n",
       "  'http://canadianelectionsdatabase.ca/PHASE5/?p=0&type=election&ID=291'],\n",
       " ['CAN (Sep 1878)',\n",
       "  'http://canadianelectionsdatabase.ca/PHASE5/?p=0&type=election&ID=290'],\n",
       " ['CAN (Jan 1874)',\n",
       "  'http://canadianelectionsdatabase.ca/PHASE5/?p=0&type=election&ID=289'],\n",
       " ['CAN (Jul 1872)',\n",
       "  'http://canadianelectionsdatabase.ca/PHASE5/?p=0&type=election&ID=288'],\n",
       " ['CAN (Aug 1867)',\n",
       "  'http://canadianelectionsdatabase.ca/PHASE5/?p=0&type=election&ID=286']]"
      ]
     },
     "execution_count": 15,
     "metadata": {},
     "output_type": "execute_result"
    }
   ],
   "source": [
    "RowList = []\n",
    "# RowList.append([page_soup.h1.text, ''])\n",
    "RowList.append(['Election Dates', 'Links'])\n",
    "# RowList\n",
    "\n",
    "tempList = [0]\n",
    "\n",
    "for container in containers:\n",
    "    # print(container)\n",
    "    tempList[0] = [container.a.text, \"http://canadianelectionsdatabase.ca/PHASE5/\"+container.a['href']]\n",
    "    # print(tempList[0])\n",
    "    RowList.append(tempList[0])\n",
    "\n",
    "RowList"
   ]
  },
  {
   "cell_type": "code",
   "execution_count": null,
   "metadata": {},
   "outputs": [],
   "source": [
    "with open('Data 501 outputs/Sayers.csv', 'w', newline='') as csvFile:\n",
    "    writer = csv.writer(csvFile)\n",
    "    writer.writerows(RowList)\n",
    "csvFile.close()"
   ]
  },
  {
   "cell_type": "markdown",
   "metadata": {},
   "source": [
    "# Second Phase of Scraping"
   ]
  },
  {
   "cell_type": "code",
   "execution_count": null,
   "metadata": {},
   "outputs": [],
   "source": [
    "for i in range(1, len(RowList)):\n",
    "    my_url = RowList[i][1]\n",
    "    # my_url\n",
    "\n",
    "    uClient = uReq(my_url)\n",
    "    page_html = uClient.read()\n",
    "    uClient.close()\n",
    "\n",
    "    page_soup = soup(page_html, \"html.parser\")\n",
    "\n",
    "    containers = page_soup.findAll(\"table\", {\"class\":\"grid\"})\n",
    "\n",
    "    container = containers[1].tbody.findAll('tr')\n",
    "\n",
    "    csv_row = []\n",
    "    csv_row.append([\"Party\",\"Candidates\",\"Seats Won\",\"% of Seats Won\",\"% os Vote\"])\n",
    "    temp = []\n",
    "    for item_tr in container:\n",
    "        item_td = item_tr.findAll('td')\n",
    "        for item in item_td:\n",
    "            temp.append(item.text)\n",
    "        csv_row.append(temp)\n",
    "        temp = []\n",
    "\n",
    "    # csv_row\n",
    "\n",
    "    fileNameStr = \"Data 501 outputs/\"+RowList[i][0]+\".csv\"\n",
    "    with open(fileNameStr, 'w', newline='') as csvFile:\n",
    "        writer = csv.writer(csvFile)\n",
    "        writer.writerows(csv_row)\n",
    "    csvFile.close()"
   ]
  },
  {
   "cell_type": "markdown",
   "metadata": {},
   "source": [
    "# Third Phase of Scraping"
   ]
  },
  {
   "cell_type": "code",
   "execution_count": 26,
   "metadata": {},
   "outputs": [
    {
     "name": "stdout",
     "output_type": "stream",
     "text": [
      "['Year', 'Party', 'Candidates', 'Seats Won', '% of Seats Won', '% os Vote']\n",
      "['2015', 'Liberal Party of Canada/Parti libéral du Canada', '338', '183', '54.30%', '39.47%']\n",
      "['2011', 'Conservative Party of Canada/Parti conservateur du Canada post-2003', '308', '166', '54.07%', '39.64%']\n",
      "['2008', 'Conservative Party of Canada/Parti conservateur du Canada post-2003', '307', '142', '46.25%', '37.65%']\n",
      "['2006', 'Conservative Party of Canada/Parti conservateur du Canada post-2003', '308', '124', '40.26%', '36.27%']\n",
      "['2004', 'Liberal Party of Canada/Parti libéral du Canada', '308', '135', '43.97%', '36.73%']\n",
      "['2000', 'Liberal Party of Canada/Parti libéral du Canada', '300', '172', '57.33%', '40.80%']\n",
      "['1997', 'Liberal Party of Canada/Parti libéral du Canada', '301', '155', '51.50%', '38.47%']\n",
      "['1993', 'Liberal Party of Canada/Parti libéral du Canada', '294', '176', '59.86%', '41.03%']\n",
      "['1988', 'Progressive Conservative Party of Canada/Parti progressiste-conservateur du Canada', '294', '169', '57.48%', '43.03%']\n",
      "['1984', 'Progressive Conservative Party of Canada/Parti progressiste-conservateur du Canada', '281', '208', '74.55%', '49.89%']\n",
      "['1980', 'Liberal Party of Canada/Parti libéral du Canada', '281', '144', '51.43%', '43.94%']\n",
      "['1979', 'Progressive Conservative Party of Canada/Parti progressiste-conservateur du Canada', '282', '136', '48.23%', '35.94%']\n",
      "['1974', 'Liberal Party of Canada/Parti libéral du Canada', '264', '138', '53.49%', '43.16%']\n",
      "['1972', 'Liberal Party of Canada/Parti libéral du Canada', '263', '107', '40.53%', '38.33%']\n",
      "['1968', 'Liberal Party of Canada/Parti libéral du Canada', '262', '153', '58.17%', '45.37%']\n",
      "['1965', 'Liberal Party of Canada/Parti libéral du Canada', '265', '131', '50.00%', '40.18%']\n",
      "['1963', 'Liberal Party of Canada/Parti libéral du Canada', '264', '127', '48.11%', '41.48%']\n",
      "['1962', 'Progressive Conservative Party of Canada/Parti progressiste-conservateur du Canada', '265', '116', '44.11%', '37.22%']\n",
      "['1958', 'Progressive Conservative Party of Canada/Parti progressiste-conservateur du Canada', '265', '208', '78.49%', '53.66%']\n",
      "['1957', 'Progressive Conservative Party of Canada/Parti progressiste-conservateur du Canada', '256', '111', '42.21%', '38.81%']\n",
      "['1953', 'Liberal Party of Canada/Parti libéral du Canada', '262', '169', '63.77%', '48.42%']\n",
      "['1949', 'Liberal Party of Canada/Parti libéral du Canada', '258', '188', '72.59%', '49.15%']\n",
      "['1945', 'Liberal Party of Canada/Parti libéral du Canada', '236', '117', '47.76%', '39.78%']\n",
      "['1940', 'Liberal Party of Canada/Parti libéral du Canada', '242', '178', '73.25%', '51.20%']\n",
      "['1935', 'Liberal Party of Canada/Parti libéral du Canada', '245', '173', '70.61%', '44.64%']\n",
      "['1930', 'Conservative Party of Canada/Parti conservateur du Canada to 1942', '231', '134', '54.92%', '48.21%']\n",
      "['1926', 'Liberal Party of Canada/Parti libéral du Canada', '201', '115', '47.13%', '42.86%']\n",
      "['1925', 'Conservative Party of Canada/Parti conservateur du Canada to 1942', '233', '115', '46.94%', '46.17%']\n",
      "['1921', 'Liberal Party of Canada/Parti libéral du Canada', '203', '118', '50.43%', '41.13%']\n",
      "['1917', 'Government (Unionist)', '209', '153', '65.11%', '56.93%']\n",
      "['1911', 'Conservative Party of Canada/Parti conservateur du Canada to 1942', '207', '130', '59.09%', '48.08%']\n",
      "['1908', 'Liberal Party of Canada/Parti libéral du Canada', '211', '131', '59.82%', '48.66%']\n",
      "['1904', 'Liberal Party of Canada/Parti libéral du Canada', '206', '134', '63.51%', '50.60%']\n",
      "['1900', 'Liberal Party of Canada/Parti libéral du Canada', '209', '127', '59.91%', '50.25%']\n",
      "['1896', 'Liberal Party of Canada/Parti libéral du Canada', '188', '117', '54.93%', '44.56%']\n",
      "['1891', 'Conservative Party of Canada/Parti conservateur du Canada to 1942', '185', '96', '44.86%', '42.76%']\n",
      "['1887', 'Conservative Party of Canada/Parti conservateur du Canada to 1942', '171', '94', '44.34%', '40.15%']\n",
      "['1882', 'Conservative Party of Canada/Parti conservateur du Canada to 1942', '118', '93', '44.50%', '27.96%']\n",
      "['1878', 'Conservative Party of Canada/Parti conservateur du Canada to 1942', '101', '84', '40.98%', '26.81%']\n",
      "['1874', 'Liberal Party of Canada/Parti libéral du Canada', '142', '130', '63.41%', '39.90%']\n",
      "['1872', 'Liberal Party of Canada/Parti libéral du Canada', '112', '95', '47.74%', '34.88%']\n",
      "['1867', 'Conservative Party of Canada/Parti conservateur du Canada to 1942', '81', '71', '39.44%', '23.74%']\n",
      "['Conservative Party of Canada/Parti conservateur du Canada to 1942', '81', '71', '39.44%', '23.74%']\n",
      "[['Year', 'Party', 'Candidates', 'Seats Won', '% of Seats Won', '% os Vote'], ['2015', 'Liberal Party of Canada/Parti libéral du Canada', '338', '183', '54.30%', '39.47%'], ['2011', 'Conservative Party of Canada/Parti conservateur du Canada post-2003', '308', '166', '54.07%', '39.64%'], ['2008', 'Conservative Party of Canada/Parti conservateur du Canada post-2003', '307', '142', '46.25%', '37.65%'], ['2006', 'Conservative Party of Canada/Parti conservateur du Canada post-2003', '308', '124', '40.26%', '36.27%'], ['2004', 'Liberal Party of Canada/Parti libéral du Canada', '308', '135', '43.97%', '36.73%'], ['2000', 'Liberal Party of Canada/Parti libéral du Canada', '300', '172', '57.33%', '40.80%'], ['1997', 'Liberal Party of Canada/Parti libéral du Canada', '301', '155', '51.50%', '38.47%'], ['1993', 'Liberal Party of Canada/Parti libéral du Canada', '294', '176', '59.86%', '41.03%'], ['1988', 'Progressive Conservative Party of Canada/Parti progressiste-conservateur du Canada', '294', '169', '57.48%', '43.03%'], ['1984', 'Progressive Conservative Party of Canada/Parti progressiste-conservateur du Canada', '281', '208', '74.55%', '49.89%'], ['1980', 'Liberal Party of Canada/Parti libéral du Canada', '281', '144', '51.43%', '43.94%'], ['1979', 'Progressive Conservative Party of Canada/Parti progressiste-conservateur du Canada', '282', '136', '48.23%', '35.94%'], ['1974', 'Liberal Party of Canada/Parti libéral du Canada', '264', '138', '53.49%', '43.16%'], ['1972', 'Liberal Party of Canada/Parti libéral du Canada', '263', '107', '40.53%', '38.33%'], ['1968', 'Liberal Party of Canada/Parti libéral du Canada', '262', '153', '58.17%', '45.37%'], ['1965', 'Liberal Party of Canada/Parti libéral du Canada', '265', '131', '50.00%', '40.18%'], ['1963', 'Liberal Party of Canada/Parti libéral du Canada', '264', '127', '48.11%', '41.48%'], ['1962', 'Progressive Conservative Party of Canada/Parti progressiste-conservateur du Canada', '265', '116', '44.11%', '37.22%'], ['1958', 'Progressive Conservative Party of Canada/Parti progressiste-conservateur du Canada', '265', '208', '78.49%', '53.66%'], ['1957', 'Progressive Conservative Party of Canada/Parti progressiste-conservateur du Canada', '256', '111', '42.21%', '38.81%'], ['1953', 'Liberal Party of Canada/Parti libéral du Canada', '262', '169', '63.77%', '48.42%'], ['1949', 'Liberal Party of Canada/Parti libéral du Canada', '258', '188', '72.59%', '49.15%'], ['1945', 'Liberal Party of Canada/Parti libéral du Canada', '236', '117', '47.76%', '39.78%'], ['1940', 'Liberal Party of Canada/Parti libéral du Canada', '242', '178', '73.25%', '51.20%'], ['1935', 'Liberal Party of Canada/Parti libéral du Canada', '245', '173', '70.61%', '44.64%'], ['1930', 'Conservative Party of Canada/Parti conservateur du Canada to 1942', '231', '134', '54.92%', '48.21%'], ['1926', 'Liberal Party of Canada/Parti libéral du Canada', '201', '115', '47.13%', '42.86%'], ['1925', 'Conservative Party of Canada/Parti conservateur du Canada to 1942', '233', '115', '46.94%', '46.17%'], ['1921', 'Liberal Party of Canada/Parti libéral du Canada', '203', '118', '50.43%', '41.13%'], ['1917', 'Government (Unionist)', '209', '153', '65.11%', '56.93%'], ['1911', 'Conservative Party of Canada/Parti conservateur du Canada to 1942', '207', '130', '59.09%', '48.08%'], ['1908', 'Liberal Party of Canada/Parti libéral du Canada', '211', '131', '59.82%', '48.66%'], ['1904', 'Liberal Party of Canada/Parti libéral du Canada', '206', '134', '63.51%', '50.60%'], ['1900', 'Liberal Party of Canada/Parti libéral du Canada', '209', '127', '59.91%', '50.25%'], ['1896', 'Liberal Party of Canada/Parti libéral du Canada', '188', '117', '54.93%', '44.56%'], ['1891', 'Conservative Party of Canada/Parti conservateur du Canada to 1942', '185', '96', '44.86%', '42.76%'], ['1887', 'Conservative Party of Canada/Parti conservateur du Canada to 1942', '171', '94', '44.34%', '40.15%'], ['1882', 'Conservative Party of Canada/Parti conservateur du Canada to 1942', '118', '93', '44.50%', '27.96%'], ['1878', 'Conservative Party of Canada/Parti conservateur du Canada to 1942', '101', '84', '40.98%', '26.81%'], ['1874', 'Liberal Party of Canada/Parti libéral du Canada', '142', '130', '63.41%', '39.90%'], ['1872', 'Liberal Party of Canada/Parti libéral du Canada', '112', '95', '47.74%', '34.88%'], ['1867', 'Conservative Party of Canada/Parti conservateur du Canada to 1942', '81', '71', '39.44%', '23.74%']]\n"
     ]
    }
   ],
   "source": [
    "csv_row = []\n",
    "csv_row.extend([\"Party\",\"Candidates\",\"Seats Won\",\"% of Seats Won\",\"% os Vote\"])\n",
    "\n",
    "with open('Data 501 outputs/Analytics.csv', 'r') as f:\n",
    "  reader = csv.reader(f)\n",
    "  your_list = list(reader)\n",
    "    \n",
    "your_list[0].extend(csv_row)\n",
    "print(your_list[0])\n",
    "\n",
    "\n",
    "#print(your_list)\n",
    "\n",
    "for i in range(1, len(RowList)):\n",
    "    my_url = RowList[i][1]\n",
    "    # my_url\n",
    "\n",
    "    uClient = uReq(my_url)\n",
    "    page_html = uClient.read()\n",
    "    uClient.close()\n",
    "\n",
    "    page_soup = soup(page_html, \"html.parser\")\n",
    "\n",
    "    containers = page_soup.findAll(\"table\", {\"class\":\"grid\"})\n",
    "\n",
    "    container = containers[1].tbody.find('tr')\n",
    "\n",
    "    item_td = container.findAll('td')\n",
    "    \n",
    "    temp = []\n",
    "    \n",
    "    for item in item_td:\n",
    "        temp.append(item.text)\n",
    "    \n",
    "    your_list[i].extend(temp)\n",
    "    print(your_list[i])\n",
    "    \n",
    "print(temp)\n",
    "print(your_list)"
   ]
  },
  {
   "cell_type": "code",
   "execution_count": 27,
   "metadata": {},
   "outputs": [],
   "source": [
    "with open('Data 501 outputs/AnalyticsExtended.csv', 'w', newline='') as csvFile:\n",
    "    writer = csv.writer(csvFile)\n",
    "    writer.writerows(your_list)\n",
    "csvFile.close()"
   ]
  }
 ],
 "metadata": {
  "kernelspec": {
   "display_name": "Python 3",
   "language": "python",
   "name": "python3"
  },
  "language_info": {
   "codemirror_mode": {
    "name": "ipython",
    "version": 3
   },
   "file_extension": ".py",
   "mimetype": "text/x-python",
   "name": "python",
   "nbconvert_exporter": "python",
   "pygments_lexer": "ipython3",
   "version": "3.7.4"
  }
 },
 "nbformat": 4,
 "nbformat_minor": 2
}
