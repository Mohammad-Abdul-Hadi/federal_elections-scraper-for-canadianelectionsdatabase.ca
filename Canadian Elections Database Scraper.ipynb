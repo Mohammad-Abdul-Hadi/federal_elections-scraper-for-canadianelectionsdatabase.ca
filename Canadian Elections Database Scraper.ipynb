{
 "cells": [
  {
   "cell_type": "code",
   "execution_count": 124,
   "metadata": {},
   "outputs": [],
   "source": [
    "from urllib.request import urlopen as uReq\n",
    "from bs4 import BeautifulSoup as soup\n",
    "import csv\n",
    "from openpyxl import load_workbook"
   ]
  },
  {
   "cell_type": "markdown",
   "metadata": {},
   "source": [
    "# First Phase of Scraping"
   ]
  },
  {
   "cell_type": "code",
   "execution_count": 118,
   "metadata": {},
   "outputs": [
    {
     "data": {
      "text/plain": [
       "'http://canadianelectionsdatabase.ca/PHASE5/?p=0&type=election&sort=federal'"
      ]
     },
     "execution_count": 118,
     "metadata": {},
     "output_type": "execute_result"
    }
   ],
   "source": [
    "my_url = 'http://canadianelectionsdatabase.ca/PHASE5/?p=0&type=election&sort=federal'\n",
    "my_url"
   ]
  },
  {
   "cell_type": "markdown",
   "metadata": {},
   "source": [
    "### Opening up the connection, Grabbing the page"
   ]
  },
  {
   "cell_type": "code",
   "execution_count": 119,
   "metadata": {},
   "outputs": [],
   "source": [
    "uClient = uReq(my_url)\n",
    "page_html = uClient.read()\n",
    "uClient.close()"
   ]
  },
  {
   "cell_type": "markdown",
   "metadata": {},
   "source": [
    "### Parse the HTML page"
   ]
  },
  {
   "cell_type": "code",
   "execution_count": 120,
   "metadata": {},
   "outputs": [],
   "source": [
    "page_soup = soup(page_html, \"html.parser\")"
   ]
  },
  {
   "cell_type": "markdown",
   "metadata": {},
   "source": [
    "### Grab each Link"
   ]
  },
  {
   "cell_type": "code",
   "execution_count": 121,
   "metadata": {},
   "outputs": [
    {
     "data": {
      "text/plain": [
       "[<div class=\"sorted sorted_election\"><a href=\"?p=0&amp;type=election&amp;ID=776\">CAN (Oct 2015)</a></div>,\n",
       " <div class=\"sorted sorted_election\"><a href=\"?p=0&amp;type=election&amp;ID=617\">CAN (May 2011)</a></div>,\n",
       " <div class=\"sorted sorted_election\"><a href=\"?p=0&amp;type=election&amp;ID=279\">CAN (Oct 2008)</a></div>,\n",
       " <div class=\"sorted sorted_election\"><a href=\"?p=0&amp;type=election&amp;ID=615\">CAN (Jan 2006)</a></div>,\n",
       " <div class=\"sorted sorted_election\"><a href=\"?p=0&amp;type=election&amp;ID=614\">CAN (Jun 2004)</a></div>,\n",
       " <div class=\"sorted sorted_election\"><a href=\"?p=0&amp;type=election&amp;ID=613\">CAN (Nov 2000)</a></div>,\n",
       " <div class=\"sorted sorted_election\"><a href=\"?p=0&amp;type=election&amp;ID=612\">CAN (Jun 1997)</a></div>,\n",
       " <div class=\"sorted sorted_election\"><a href=\"?p=0&amp;type=election&amp;ID=611\">CAN (Oct 1993)</a></div>,\n",
       " <div class=\"sorted sorted_election\"><a href=\"?p=0&amp;type=election&amp;ID=610\">CAN (Nov 1988)</a></div>,\n",
       " <div class=\"sorted sorted_election\"><a href=\"?p=0&amp;type=election&amp;ID=609\">CAN (Sep 1984)</a></div>,\n",
       " <div class=\"sorted sorted_election\"><a href=\"?p=0&amp;type=election&amp;ID=608\">CAN (Feb 1980)</a></div>,\n",
       " <div class=\"sorted sorted_election\"><a href=\"?p=0&amp;type=election&amp;ID=607\">CAN (May 1979)</a></div>,\n",
       " <div class=\"sorted sorted_election\"><a href=\"?p=0&amp;type=election&amp;ID=606\">CAN (Jul 1974)</a></div>,\n",
       " <div class=\"sorted sorted_election\"><a href=\"?p=0&amp;type=election&amp;ID=605\">CAN (Oct 1972)</a></div>,\n",
       " <div class=\"sorted sorted_election\"><a href=\"?p=0&amp;type=election&amp;ID=584\">CAN (Jun 1968)</a></div>,\n",
       " <div class=\"sorted sorted_election\"><a href=\"?p=0&amp;type=election&amp;ID=583\">CAN (Nov 1965)</a></div>,\n",
       " <div class=\"sorted sorted_election\"><a href=\"?p=0&amp;type=election&amp;ID=529\">CAN (Apr 1963)</a></div>,\n",
       " <div class=\"sorted sorted_election\"><a href=\"?p=0&amp;type=election&amp;ID=521\">CAN (Jun 1962)</a></div>,\n",
       " <div class=\"sorted sorted_election\"><a href=\"?p=0&amp;type=election&amp;ID=447\">CAN (Mar 1958)</a></div>,\n",
       " <div class=\"sorted sorted_election\"><a href=\"?p=0&amp;type=election&amp;ID=413\">CAN (Jun 1957)</a></div>,\n",
       " <div class=\"sorted sorted_election\"><a href=\"?p=0&amp;type=election&amp;ID=330\">CAN (Aug 1953)</a></div>,\n",
       " <div class=\"sorted sorted_election\"><a href=\"?p=0&amp;type=election&amp;ID=309\">CAN (Jun 1949)</a></div>,\n",
       " <div class=\"sorted sorted_election\"><a href=\"?p=0&amp;type=election&amp;ID=307\">CAN (Jun 1945)</a></div>,\n",
       " <div class=\"sorted sorted_election\"><a href=\"?p=0&amp;type=election&amp;ID=306\">CAN (Mar 1940)</a></div>,\n",
       " <div class=\"sorted sorted_election\"><a href=\"?p=0&amp;type=election&amp;ID=305\">CAN (Oct 1935)</a></div>,\n",
       " <div class=\"sorted sorted_election\"><a href=\"?p=0&amp;type=election&amp;ID=304\">CAN (Jul 1930)</a></div>,\n",
       " <div class=\"sorted sorted_election\"><a href=\"?p=0&amp;type=election&amp;ID=303\">CAN (Sep 1926)</a></div>,\n",
       " <div class=\"sorted sorted_election\"><a href=\"?p=0&amp;type=election&amp;ID=302\">CAN (Oct 1925)</a></div>,\n",
       " <div class=\"sorted sorted_election\"><a href=\"?p=0&amp;type=election&amp;ID=300\">CAN (Dec 1921)</a></div>,\n",
       " <div class=\"sorted sorted_election\"><a href=\"?p=0&amp;type=election&amp;ID=299\">CAN (Dec 1917)</a></div>,\n",
       " <div class=\"sorted sorted_election\"><a href=\"?p=0&amp;type=election&amp;ID=298\">CAN (Sep 1911)</a></div>,\n",
       " <div class=\"sorted sorted_election\"><a href=\"?p=0&amp;type=election&amp;ID=297\">CAN (Oct 1908)</a></div>,\n",
       " <div class=\"sorted sorted_election\"><a href=\"?p=0&amp;type=election&amp;ID=296\">CAN (Nov 1904)</a></div>,\n",
       " <div class=\"sorted sorted_election\"><a href=\"?p=0&amp;type=election&amp;ID=295\">CAN (Nov 1900)</a></div>,\n",
       " <div class=\"sorted sorted_election\"><a href=\"?p=0&amp;type=election&amp;ID=294\">CAN (Jun 1896)</a></div>,\n",
       " <div class=\"sorted sorted_election\"><a href=\"?p=0&amp;type=election&amp;ID=293\">CAN (Mar 1891)</a></div>,\n",
       " <div class=\"sorted sorted_election\"><a href=\"?p=0&amp;type=election&amp;ID=292\">CAN (Feb 1887)</a></div>,\n",
       " <div class=\"sorted sorted_election\"><a href=\"?p=0&amp;type=election&amp;ID=291\">CAN (Jun 1882)</a></div>,\n",
       " <div class=\"sorted sorted_election\"><a href=\"?p=0&amp;type=election&amp;ID=290\">CAN (Sep 1878)</a></div>,\n",
       " <div class=\"sorted sorted_election\"><a href=\"?p=0&amp;type=election&amp;ID=289\">CAN (Jan 1874)</a></div>,\n",
       " <div class=\"sorted sorted_election\"><a href=\"?p=0&amp;type=election&amp;ID=288\">CAN (Jul 1872)</a></div>,\n",
       " <div class=\"sorted sorted_election\"><a href=\"?p=0&amp;type=election&amp;ID=286\">CAN (Aug 1867)</a></div>]"
      ]
     },
     "execution_count": 121,
     "metadata": {},
     "output_type": "execute_result"
    }
   ],
   "source": [
    "containers = page_soup.findAll(\"div\",{\"class\":\"sorted sorted_election\"})\n",
    "# len(containers)\n",
    "# containers[0].a['href']\n",
    "# containers[0].a.text\n",
    "containers"
   ]
  },
  {
   "cell_type": "code",
   "execution_count": 122,
   "metadata": {},
   "outputs": [],
   "source": [
    "RowList = []\n",
    "# RowList.append([page_soup.h1.text, ''])\n",
    "RowList.append(['Election Dates', 'Links'])\n",
    "# RowList\n",
    "\n",
    "header = \"Election Dates, Links\"\n",
    "\n",
    "tempList = [0]\n",
    "\n",
    "for container in containers:\n",
    "    # print(container)\n",
    "    tempList[0] = [container.a.text, \"http://canadianelectionsdatabase.ca/PHASE5/\"+container.a['href']]\n",
    "    # print(tempList[0])\n",
    "    RowList.append(tempList[0])\n",
    "\n",
    "# RowList"
   ]
  },
  {
   "cell_type": "code",
   "execution_count": 125,
   "metadata": {},
   "outputs": [],
   "source": [
    "with open('Data 501 outputs/Sayers.csv', 'w', newline='') as csvFile:\n",
    "    writer = csv.writer(csvFile)\n",
    "    writer.writerows(RowList)\n",
    "csvFile.close()"
   ]
  },
  {
   "cell_type": "markdown",
   "metadata": {},
   "source": [
    "# Second Phase of Scraping"
   ]
  },
  {
   "cell_type": "code",
   "execution_count": 129,
   "metadata": {},
   "outputs": [],
   "source": [
    "for i in range(1, len(RowList)):\n",
    "    my_url = RowList[i][1]\n",
    "    # my_url\n",
    "\n",
    "    uClient = uReq(my_url)\n",
    "    page_html = uClient.read()\n",
    "    uClient.close()\n",
    "\n",
    "    page_soup = soup(page_html, \"html.parser\")\n",
    "\n",
    "    containers = page_soup.findAll(\"table\", {\"class\":\"grid\"})\n",
    "\n",
    "    container = containers[1].tbody.findAll('tr')\n",
    "\n",
    "    csv_row = []\n",
    "    csv_row.append([\"Party\",\"Candidates\",\"Seats Won\",\"% of Seats Won\",\"% os Vote\"])\n",
    "    temp = []\n",
    "    for item_tr in container:\n",
    "        item_td = item_tr.findAll('td')\n",
    "        for item in item_td:\n",
    "            temp.append(item.text)\n",
    "        csv_row.append(temp)\n",
    "        temp = []\n",
    "\n",
    "    # csv_row\n",
    "\n",
    "    fileNameStr = \"Data 501 outputs/\"+RowList[i][0]+\".csv\"\n",
    "    with open(fileNameStr, 'w', newline='') as csvFile:\n",
    "        writer = csv.writer(csvFile)\n",
    "        writer.writerows(csv_row)\n",
    "    csvFile.close()"
   ]
  }
 ],
 "metadata": {
  "kernelspec": {
   "display_name": "Python 3",
   "language": "python",
   "name": "python3"
  },
  "language_info": {
   "codemirror_mode": {
    "name": "ipython",
    "version": 3
   },
   "file_extension": ".py",
   "mimetype": "text/x-python",
   "name": "python",
   "nbconvert_exporter": "python",
   "pygments_lexer": "ipython3",
   "version": "3.7.4"
  }
 },
 "nbformat": 4,
 "nbformat_minor": 2
}
